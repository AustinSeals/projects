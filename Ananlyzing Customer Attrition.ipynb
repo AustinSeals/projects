{
 "cells": [
  {
   "cell_type": "code",
   "execution_count": 0,
   "metadata": {
    "colab": {},
    "colab_type": "code",
    "id": "NsIJ5aYB3Gxi"
   },
   "outputs": [],
   "source": [
    "!apt-get install openjdk-8-jdk-headless -qq > /dev/null\n",
    "!rm spark-2.4.5-bin-hadoop2.7.tgz\n",
    "!wget --no-cookies --no-check-certificate https://downloads.apache.org/spark/spark-2.4.5/spark-2.4.5-bin-hadoop2.7.tgz\n",
    "!tar zxvf spark-2.4.5-bin-hadoop2.7.tgz\n",
    "!pip install -q findspark\n",
    "!pip install pyspark"
   ]
  },
  {
   "cell_type": "code",
   "execution_count": 0,
   "metadata": {
    "colab": {},
    "colab_type": "code",
    "id": "p2KZGJtl5mxp"
   },
   "outputs": [],
   "source": [
    "import os\n",
    "os.environ[\"JAVA_HOME\"]  = \"/usr/lib/jvm/java-8-openjdk-amd64\"\n",
    "os.environ[\"SPARK_HOME\"] = \"/content/spark-2.4.5-bin-hadoop2.7\""
   ]
  },
  {
   "cell_type": "code",
   "execution_count": 0,
   "metadata": {
    "colab": {},
    "colab_type": "code",
    "id": "IsHXMS4t7Om0"
   },
   "outputs": [],
   "source": [
    "import datetime, time\n",
    "import pandas as pd \n",
    "import seaborn as sns\n",
    "import re, random, sys\n",
    "\n",
    "# Note - Not all of these will be used, but I've added them for your reference as a \"getting started\"\n",
    "from pyspark import SparkContext\n",
    "from pyspark.sql import SparkSession\n",
    "from pyspark.sql.types import StructType, StructField, ArrayType, IntegerType, StringType, FloatType, LongType, DateType\n",
    "from pyspark.sql.functions import struct, array, lit, monotonically_increasing_id, col, expr, when, concat, udf, split, size, lag, count, isnull\n",
    "from pyspark.sql import Window\n",
    "from pyspark.ml.linalg import Vectors\n",
    "from pyspark.ml.regression import GBTRegressor, LinearRegression, GeneralizedLinearRegression, RandomForestRegressor\n",
    "from pyspark.ml.classification import GBTClassifier, RandomForestClassifier\n",
    "from pyspark.ml.feature import VectorIndexer, VectorAssembler, StringIndexer, IndexToString\n",
    "from pyspark.ml.evaluation import RegressionEvaluator\n",
    "from pyspark.ml import Pipeline, PipelineModel\n",
    "from pyspark.ml.evaluation import MulticlassClassificationEvaluator, RegressionEvaluator"
   ]
  },
  {
   "cell_type": "markdown",
   "metadata": {
    "colab_type": "text",
    "id": "QzSnG2Gt4qXO"
   },
   "source": [
    "# Load Bank Attrition Data \n"
   ]
  },
  {
   "cell_type": "code",
   "execution_count": 2,
   "metadata": {
    "colab": {
     "base_uri": "https://localhost:8080/",
     "height": 210
    },
    "colab_type": "code",
    "id": "tw0ylrM-5Isl",
    "outputId": "bb24b950-6214-4d1c-dc2f-e892b15d1d8c"
   },
   "outputs": [
    {
     "name": "stdout",
     "output_type": "stream",
     "text": [
      "--2020-03-28 16:06:35--  https://raw.githubusercontent.com/zaratsian/Datasets/master/banking_attrition.csv\n",
      "Resolving raw.githubusercontent.com (raw.githubusercontent.com)... 151.101.0.133, 151.101.64.133, 151.101.128.133, ...\n",
      "Connecting to raw.githubusercontent.com (raw.githubusercontent.com)|151.101.0.133|:443... connected.\n",
      "HTTP request sent, awaiting response... 200 OK\n",
      "Length: 4021593 (3.8M) [text/plain]\n",
      "Saving to: ‘banking_attrition.csv’\n",
      "\n",
      "\r",
      "banking_attrition.c   0%[                    ]       0  --.-KB/s               \r",
      "banking_attrition.c 100%[===================>]   3.83M  --.-KB/s    in 0.1s    \n",
      "\n",
      "2020-03-28 16:06:36 (38.0 MB/s) - ‘banking_attrition.csv’ saved [4021593/4021593]\n",
      "\n"
     ]
    }
   ],
   "source": [
    "!wget https://raw.githubusercontent.com/zaratsian/Datasets/master/banking_attrition.csv"
   ]
  },
  {
   "cell_type": "code",
   "execution_count": 0,
   "metadata": {
    "colab": {},
    "colab_type": "code",
    "id": "WtHGL2a25RTG"
   },
   "outputs": [],
   "source": [
    "spark = SparkSession.builder.appName(\"Spark ML Assignment\").master(\"local[*]\").getOrCreate()"
   ]
  },
  {
   "cell_type": "code",
   "execution_count": 0,
   "metadata": {
    "colab": {},
    "colab_type": "code",
    "id": "IkzCi1Kg7rFZ"
   },
   "outputs": [],
   "source": [
    "bank_atr = spark.read.load('banking_attrition.csv', format=\"csv\", header=True, inferSchema=True)"
   ]
  },
  {
   "cell_type": "markdown",
   "metadata": {
    "colab_type": "text",
    "id": "kg0Y8iRcwWtU"
   },
   "source": [
    "# Get Familiar with the *Data*"
   ]
  },
  {
   "cell_type": "code",
   "execution_count": 12,
   "metadata": {
    "colab": {
     "base_uri": "https://localhost:8080/",
     "height": 298
    },
    "colab_type": "code",
    "id": "0foI1ghf8DHZ",
    "outputId": "90266b68-e13f-4975-8343-4fbef23860e2"
   },
   "outputs": [
    {
     "name": "stdout",
     "output_type": "stream",
     "text": [
      "COLUMN NAMES\n"
     ]
    },
    {
     "data": {
      "text/plain": [
       "['uid',\n",
       " 'age',\n",
       " 'age_group',\n",
       " 'profession',\n",
       " 'marital_status',\n",
       " 'education',\n",
       " 'default',\n",
       " 'housing',\n",
       " 'loan',\n",
       " 'gender',\n",
       " 'balance',\n",
       " 'membership',\n",
       " 'charges',\n",
       " 'customer_contacts',\n",
       " 'attrition']"
      ]
     },
     "execution_count": 12,
     "metadata": {
      "tags": []
     },
     "output_type": "execute_result"
    }
   ],
   "source": [
    "# DISPLAY COLUMNS\n",
    "print('COLUMN NAMES') \n",
    "bank_atr.columns"
   ]
  },
  {
   "cell_type": "code",
   "execution_count": 11,
   "metadata": {
    "colab": {
     "base_uri": "https://localhost:8080/",
     "height": 298
    },
    "colab_type": "code",
    "id": "VIpH7Pag8O5U",
    "outputId": "de2d2ec4-79c0-4a4b-9ca4-6654c33cbb93"
   },
   "outputs": [
    {
     "name": "stdout",
     "output_type": "stream",
     "text": [
      "COLUMN DATA TYPES\n"
     ]
    },
    {
     "data": {
      "text/plain": [
       "[('uid', 'int'),\n",
       " ('age', 'int'),\n",
       " ('age_group', 'string'),\n",
       " ('profession', 'string'),\n",
       " ('marital_status', 'string'),\n",
       " ('education', 'string'),\n",
       " ('default', 'string'),\n",
       " ('housing', 'string'),\n",
       " ('loan', 'string'),\n",
       " ('gender', 'string'),\n",
       " ('balance', 'string'),\n",
       " ('membership', 'string'),\n",
       " ('charges', 'int'),\n",
       " ('customer_contacts', 'int'),\n",
       " ('attrition', 'int')]"
      ]
     },
     "execution_count": 11,
     "metadata": {
      "tags": []
     },
     "output_type": "execute_result"
    }
   ],
   "source": [
    "# PRINT OUT DATA TYPES OF EACH COLUMN \n",
    "print('COLUMN DATA TYPES')\n",
    "bank_atr.dtypes"
   ]
  },
  {
   "cell_type": "code",
   "execution_count": 13,
   "metadata": {
    "colab": {
     "base_uri": "https://localhost:8080/",
     "height": 52
    },
    "colab_type": "code",
    "id": "koEeVEUV8V3A",
    "outputId": "348cd41e-a751-4bef-f281-71b405e95302"
   },
   "outputs": [
    {
     "name": "stdout",
     "output_type": "stream",
     "text": [
      "DATA SIZE:\n"
     ]
    },
    {
     "data": {
      "text/plain": [
       "45211"
      ]
     },
     "execution_count": 13,
     "metadata": {
      "tags": []
     },
     "output_type": "execute_result"
    }
   ],
   "source": [
    "# DATASET SIZE\n",
    "print('DATA SIZE:')\n",
    "bank_atr.count()"
   ]
  },
  {
   "cell_type": "markdown",
   "metadata": {
    "colab_type": "text",
    "id": "LNKzis36w08a"
   },
   "source": [
    "# Exploratory Analysis of the Features"
   ]
  },
  {
   "cell_type": "code",
   "execution_count": 48,
   "metadata": {
    "colab": {
     "base_uri": "https://localhost:8080/",
     "height": 1000
    },
    "colab_type": "code",
    "id": "D64FWRnB86O4",
    "outputId": "493a29ea-9baf-4773-d845-ec9c6af26ee5"
   },
   "outputs": [
    {
     "name": "stdout",
     "output_type": "stream",
     "text": [
      "UID Statistics \n",
      "count    4.521100e+04\n",
      "mean     1.022606e+06\n",
      "std      1.305144e+04\n",
      "min      1.000001e+06\n",
      "25%      1.011304e+06\n",
      "50%      1.022606e+06\n",
      "75%      1.033908e+06\n",
      "max      1.045211e+06\n",
      "Name: uid, dtype: float64\n",
      "------------------\n",
      "AGE Statistics \n",
      "count    45211.000000\n",
      "mean        41.063546\n",
      "std         11.678363\n",
      "min         18.000000\n",
      "25%         32.000000\n",
      "50%         40.000000\n",
      "75%         51.000000\n",
      "max         95.000000\n",
      "Name: age, dtype: float64\n",
      "------------------\n",
      "AGE_GROUP Distribution( as proportion)\n",
      "30s    0.318507\n",
      "50s    0.252527\n",
      "40s    0.215611\n",
      "20s    0.177921\n",
      "60s    0.024131\n",
      "70s    0.008007\n",
      "80s    0.002367\n",
      "U20    0.000796\n",
      "90s    0.000133\n",
      "Name: age_group, dtype: float64\n",
      "------------------\n",
      "PROFESSION Distribution( as proportion)\n",
      "management        0.185928\n",
      "manufacturing     0.185154\n",
      "technician        0.150561\n",
      "administration    0.146867\n",
      "unemployed        0.097012\n",
      "consulting        0.079450\n",
      "retired           0.045586\n",
      "self_employed     0.031099\n",
      "entrepreneur      0.029396\n",
      "executive         0.025768\n",
      "student           0.017098\n",
      "unknown           0.006083\n",
      "Name: profession, dtype: float64\n",
      "------------------\n",
      "MARITAL_STATUS Distribution( as proportion)\n",
      "married     0.443321\n",
      "single      0.308664\n",
      "divorced    0.248015\n",
      "Name: marital_status, dtype: float64\n",
      "------------------\n",
      "EDUCATION Distribution( as proportion)\n",
      "graduate       0.586317\n",
      "high school    0.274933\n",
      "college        0.109066\n",
      "unknown        0.029683\n",
      "Name: education, dtype: float64\n",
      "------------------\n",
      "DEFAULT Distribution( as proportion)\n",
      "no     0.981973\n",
      "yes    0.018027\n",
      "Name: default, dtype: float64\n",
      "------------------\n",
      "HOUSING Distribution( as proportion)\n",
      "yes    0.555838\n",
      "no     0.444162\n",
      "Name: housing, dtype: float64\n",
      "------------------\n",
      "LOAN Distribution( as proportion)\n",
      "no     0.839774\n",
      "yes    0.160226\n",
      "Name: loan, dtype: float64\n",
      "------------------\n",
      "GENDER Distribution( as proportion)\n",
      "female    0.566101\n",
      "male      0.433899\n",
      "Name: gender, dtype: float64\n",
      "------------------\n",
      "BALANCE Distribution( as proportion)\n",
      "Over $250k       0.268983\n",
      "$10k - $50k      0.228838\n",
      "$100k - $250k    0.226516\n",
      "$50k - $100k     0.220499\n",
      "Under $10k       0.055164\n",
      "Name: balance, dtype: float64\n",
      "------------------\n",
      "MEMBERSHIP Distribution( as proportion)\n",
      "platinum    0.495499\n",
      "silver      0.284002\n",
      "gold        0.220499\n",
      "Name: membership, dtype: float64\n",
      "------------------\n",
      "CHARGES Statistics \n",
      "count    45211.000000\n",
      "mean       123.770653\n",
      "std         90.360191\n",
      "min          0.000000\n",
      "25%         53.000000\n",
      "50%        108.000000\n",
      "75%        164.000000\n",
      "max        366.000000\n",
      "Name: charges, dtype: float64\n",
      "------------------\n",
      "CUSTOMER_CONTACTS Statistics \n",
      "count    45211.000000\n",
      "mean         1.944593\n",
      "std          2.104809\n",
      "min          0.000000\n",
      "25%          0.000000\n",
      "50%          1.000000\n",
      "75%          3.000000\n",
      "max          9.000000\n",
      "Name: customer_contacts, dtype: float64\n",
      "------------------\n",
      "ATTRITION Statistics \n",
      "count    45211.000000\n",
      "mean         0.225609\n",
      "std          0.417987\n",
      "min          0.000000\n",
      "25%          0.000000\n",
      "50%          0.000000\n",
      "75%          0.000000\n",
      "max          1.000000\n",
      "Name: attrition, dtype: float64\n",
      "------------------\n"
     ]
    }
   ],
   "source": [
    "bank_atr_pd = bank_atr.toPandas()# convert to pandas dataframe \n",
    "#bank_atr_pd.age_group.dtype\n",
    "#cols = list(bank_atr_pd.columns)\n",
    "for c in list(bank_atr_pd.columns):\n",
    "  if bank_atr_pd[c].dtype == \"O\":\n",
    "    print(c.upper(), 'Distribution( as proportion)')\n",
    "    print(bank_atr_pd[c].value_counts(normalize = True))\n",
    "    print('------------------')\n",
    "  else:\n",
    "    print(c.upper(), 'Statistics ')\n",
    "    print(bank_atr_pd[c].describe())\n",
    "    print('------------------')\n",
    "\n",
    "\n"
   ]
  },
  {
   "cell_type": "code",
   "execution_count": 87,
   "metadata": {
    "colab": {
     "base_uri": "https://localhost:8080/",
     "height": 70
    },
    "colab_type": "code",
    "id": "Wn6xioANvrzO",
    "outputId": "a8498236-0426-4d31-c2b0-c89d9d08dd5a"
   },
   "outputs": [
    {
     "data": {
      "text/plain": [
       "0    0.774391\n",
       "1    0.225609\n",
       "Name: attrition, dtype: float64"
      ]
     },
     "execution_count": 87,
     "metadata": {
      "tags": []
     },
     "output_type": "execute_result"
    }
   ],
   "source": [
    "# DISTRIBUTION OF OUR BINARY TARGET VARIABLE\n",
    "bank_atr_pd.attrition.value_counts(normalize= True)"
   ]
  },
  {
   "cell_type": "code",
   "execution_count": 58,
   "metadata": {
    "colab": {
     "base_uri": "https://localhost:8080/",
     "height": 366
    },
    "colab_type": "code",
    "id": "j5QQbQYxCeJI",
    "outputId": "f7cc7334-0ccc-4a7f-9426-db551003f993"
   },
   "outputs": [
    {
     "data": {
      "image/png": "[encoded data removed]",
      "text/plain": [
       "<Figure size 432x288 with 2 Axes>"
      ]
     },
     "metadata": {
      "tags": []
     },
     "output_type": "display_data"
    }
   ],
   "source": [
    "# HEATMAP OF CORRELATIONS(numeric variables only)\n",
    "import matplotlib.pyplot as plt\n",
    "\n",
    "cor = bank_atr_pd.corr()\n",
    "\n",
    "ax = plt.axes()\n",
    "sns.heatmap(cor, annot=True)\n",
    "\n",
    "ax.set_title('Correlation Heatmap of Numeric Variables')\n",
    "plt.show()"
   ]
  },
  {
   "cell_type": "markdown",
   "metadata": {
    "colab_type": "text",
    "id": "7UnmDwn9xapM"
   },
   "source": [
    "# Build Model\n"
   ]
  },
  {
   "cell_type": "code",
   "execution_count": 0,
   "metadata": {
    "colab": {},
    "colab_type": "code",
    "id": "BSX1nkNKLhb2"
   },
   "outputs": [],
   "source": [
    "# IIMPORT LOGISTIC REGRESSION PACKAGE\n",
    "from pyspark.ml.classification import LogisticRegression\n",
    "from pyspark.ml.evaluation import RegressionEvaluator\n",
    "from pyspark.ml.tuning import ParamGridBuilder, TrainValidationSplit\n"
   ]
  },
  {
   "cell_type": "code",
   "execution_count": 81,
   "metadata": {
    "colab": {
     "base_uri": "https://localhost:8080/",
     "height": 492
    },
    "colab_type": "code",
    "id": "4boeLfcXUoml",
    "outputId": "b1092422-7f7b-4e8e-82c2-5720d34f9d7d"
   },
   "outputs": [
    {
     "name": "stdout",
     "output_type": "stream",
     "text": [
      "+---------------------------------------------------+---------+\n",
      "|features                                           |attrition|\n",
      "+---------------------------------------------------+---------+\n",
      "|[4.0,6.0,0.0,1.0,0.0,1.0,0.0,0.0,3.0,2.0,74.0,5.0] |0        |\n",
      "|[2.0,0.0,0.0,1.0,1.0,1.0,0.0,1.0,1.0,1.0,149.0,1.0]|0        |\n",
      "|(12,[0,3,5,8,10,11],[2.0,1.0,1.0,2.0,58.0,5.0])    |1        |\n",
      "|[1.0,3.0,2.0,0.0,0.0,0.0,0.0,0.0,1.0,1.0,317.0,4.0]|1        |\n",
      "|[0.0,0.0,1.0,1.0,0.0,0.0,0.0,1.0,3.0,2.0,139.0,8.0]|0        |\n",
      "+---------------------------------------------------+---------+\n",
      "only showing top 5 rows\n",
      "\n",
      "+-----------------------------------------------+---------+----------------------------------------+-----------------------------------------+----------+\n",
      "|features                                       |attrition|rawPrediction                           |probability                              |prediction|\n",
      "+-----------------------------------------------+---------+----------------------------------------+-----------------------------------------+----------+\n",
      "|(12,[0,1,2,3,4,10],[1.0,3.0,1.0,1.0,1.0,106.0])|0        |[2.251190848301003,-2.251190848301003]  |[0.9047532057406835,0.09524679425931652] |0.0       |\n",
      "|(12,[0,1,2,3,4,10],[1.0,5.0,1.0,1.0,1.0,164.0])|0        |[1.1328231543148863,-1.1328231543148863]|[0.7563595258429034,0.2436404741570965]  |0.0       |\n",
      "|(12,[0,1,2,3,4,10],[2.0,1.0,1.0,1.0,1.0,28.0]) |0        |[3.620927576370421,-3.620927576370421]  |[0.9739394783662527,0.02606052163374725] |0.0       |\n",
      "|(12,[0,1,2,3,4,10],[2.0,1.0,1.0,1.0,1.0,41.0]) |0        |[3.376917225543501,-3.376917225543501]  |[0.9669753012669058,0.03302469873309422] |0.0       |\n",
      "|(12,[0,1,2,3,5,10],[1.0,1.0,1.0,1.0,1.0,69.0]) |1        |[3.1364709653592864,-3.1364709653592864]|[0.958372318025075,0.041627681974925064] |0.0       |\n",
      "|(12,[0,1,2,3,5,10],[1.0,1.0,1.0,1.0,1.0,86.0]) |0        |[2.817380506585621,-2.817380506585621]  |[0.9436078395865799,0.05639216041342015] |0.0       |\n",
      "|(12,[0,1,2,3,5,10],[1.0,1.0,1.0,1.0,1.0,150.0])|0        |[1.616098779437706,-1.616098779437706]  |[0.8342564008610014,0.16574359913899864] |0.0       |\n",
      "|(12,[0,1,2,3,5,10],[1.0,2.0,1.0,1.0,1.0,51.0]) |0        |[3.4594783867404786,-3.4594783867404786]|[0.9695125526853096,0.030487447314690486]|0.0       |\n",
      "|(12,[0,1,2,3,5,10],[1.0,2.0,1.0,1.0,1.0,175.0])|0        |[1.1319950403913919,-1.1319950403913919]|[0.7562068887847346,0.24379311121526548] |0.0       |\n",
      "|(12,[0,1,2,3,5,10],[1.0,11.0,1.0,1.0,1.0,69.0])|0        |[2.9879403215676956,-2.9879403215676956]|[0.9520263276402533,0.04797367235974675] |0.0       |\n",
      "+-----------------------------------------------+---------+----------------------------------------+-----------------------------------------+----------+\n",
      "only showing top 10 rows\n",
      "\n"
     ]
    }
   ],
   "source": [
    "# Encode string data as integers\n",
    "string_cols = ['age_group', 'profession', 'marital_status', 'education', 'default', 'housing', 'loan', 'gender', 'balance', 'membership']\n",
    "indexers = [StringIndexer(inputCol=column, outputCol=column+\"_index\").fit(bank_atr) for column in string_cols ]\n",
    "\n",
    "\n",
    "# create a pipline for  the encoding \n",
    "pipeline = Pipeline(stages=indexers)\n",
    "bank_atr_indexed = pipeline.fit(bank_atr).transform(bank_atr)\n",
    "\n",
    "\n",
    "# create feature vector and define target target variable\n",
    "\n",
    "features = ['age_group_index', 'profession_index', 'marital_status_index', 'education_index', 'default_index', 'housing_index', 'loan_index', 'gender_index', 'balance_index',\n",
    "            'membership_index', 'charges', 'customer_contacts']\n",
    "target = 'attrition'\n",
    "\n",
    "vectorAssembler = VectorAssembler(inputCols = features  , outputCol = 'features')\n",
    "bank_atr_indexed = vectorAssembler.transform(bank_atr_indexed)\n",
    "\n",
    "bank_atr_indexed = bank_atr_indexed.select(['features', 'attrition'])\n",
    "bank_atr_indexed.show(5, False)\n",
    "\n",
    "\n",
    "#split data into train and test \n",
    "train, test = bank_atr_indexed.randomSplit([0.7, 0.3], seed=12345)\n",
    "\n",
    "# create model object(logistic regression)\n",
    "lr = LogisticRegression(featuresCol = 'features' ,  labelCol = target, maxIter=10, regParam=0.001)\n",
    "m = lr.fit(train)\n",
    "\n",
    "#predict on test data\n",
    "prediction = m.transform(test)\n",
    "prediction.show(10,False)\n",
    "\n",
    "\n"
   ]
  },
  {
   "cell_type": "code",
   "execution_count": 86,
   "metadata": {
    "colab": {
     "base_uri": "https://localhost:8080/",
     "height": 52
    },
    "colab_type": "code",
    "id": "K4vZdx5OVhtJ",
    "outputId": "c6492e67-412b-413f-85be-008eb4722d8e"
   },
   "outputs": [
    {
     "name": "stdout",
     "output_type": "stream",
     "text": [
      "RMSE FOR TEST DATA\n"
     ]
    },
    {
     "data": {
      "text/plain": [
       "0.24900762550092123"
      ]
     },
     "execution_count": 86,
     "metadata": {
      "tags": []
     },
     "output_type": "execute_result"
    }
   ],
   "source": [
    "# Fit Stats\n",
    "lr_evaluator = RegressionEvaluator(predictionCol=\"prediction\", \\\n",
    "                 labelCol=\"attrition\",metricName=\"rmse\")\n",
    "\n",
    "print('RMSE FOR TEST DATA')\n",
    "lr_evaluator.evaluate(prediction)"
   ]
  }
 ],
 "metadata": {
  "colab": {
   "name": "Seals_SparkML_Homework.ipynb",
   "provenance": []
  },
  "kernelspec": {
   "display_name": "Python 3",
   "language": "python",
   "name": "python3"
  },
  "language_info": {
   "codemirror_mode": {
    "name": "ipython",
    "version": 3
   },
   "file_extension": ".py",
   "mimetype": "text/x-python",
   "name": "python",
   "nbconvert_exporter": "python",
   "pygments_lexer": "ipython3",
   "version": "3.7.3"
  }
 },
 "nbformat": 4,
 "nbformat_minor": 1
}
