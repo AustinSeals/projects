{
 "cells": [
  {
   "cell_type": "markdown",
   "metadata": {},
   "source": [
    "# Trump Tweet Sentiment Analysis using Vader Sentiment Analyzer\n",
    "## A small exercise to practice my text analysis skills\n",
    "## Austin Seals\n",
    "#### Data gathered from: http://www.trumptwitterarchive.com/"
   ]
  },
  {
   "cell_type": "code",
   "execution_count": 78,
   "metadata": {},
   "outputs": [],
   "source": [
    "# sentiment analysis of trump tweets\n",
    "import pandas as pd\n",
    "import nltk\n",
    "import re\n",
    "import string\n",
    "from vaderSentiment.vaderSentiment import SentimentIntensityAnalyzer\n",
    "\n",
    "# import data\n",
    "tweets = pd.read_csv(\"C:\\\\Users\\\\aseal\\\\Desktop\\\\HW Projects\\\\Module2\\\\Text Analysis\\\\Text Analytics Data\\\\TrumpTweets.csv\")\n",
    "tweets.text = tweets.text.astype(str)"
   ]
  },
  {
   "cell_type": "markdown",
   "metadata": {},
   "source": [
    "### We need to add some stop words to the corpurs "
   ]
  },
  {
   "cell_type": "code",
   "execution_count": 79,
   "metadata": {},
   "outputs": [],
   "source": [
    "stop_words = nltk.corpus.stopwords.words( 'english' )\n",
    "stop_list = ['http', 'twitter', 'web', 'rt', 'co', 'trump', 'realdonaldtrump', 'donald', 'https']\n",
    "stop_words.append(stop_list)"
   ]
  },
  {
   "cell_type": "code",
   "execution_count": 80,
   "metadata": {},
   "outputs": [],
   "source": [
    "vec = list(tweets['text'])"
   ]
  },
  {
   "cell_type": "markdown",
   "metadata": {},
   "source": [
    "Implement Vader\n",
    "    - tweets with compound scores > 0.5 will be  rated as very provactive\n",
    "    - between -0.5 and 0.5 will be  rated as somewhat neutral\n",
    "    - everything else is less provactive"
   ]
  },
  {
   "cell_type": "code",
   "execution_count": 53,
   "metadata": {},
   "outputs": [
    {
     "ename": "NameError",
     "evalue": "name 'SentimentIntensityAnalyzer' is not defined",
     "output_type": "error",
     "traceback": [
      "\u001b[1;31m---------------------------------------------------------------------------\u001b[0m",
      "\u001b[1;31mNameError\u001b[0m                                 Traceback (most recent call last)",
      "\u001b[1;32m<ipython-input-53-2bd67e2f9773>\u001b[0m in \u001b[0;36m<module>\u001b[1;34m\u001b[0m\n\u001b[0;32m      8\u001b[0m \u001b[1;33m\u001b[0m\u001b[0m\n\u001b[0;32m      9\u001b[0m \u001b[1;31m# instantialte vader object\u001b[0m\u001b[1;33m\u001b[0m\u001b[1;33m\u001b[0m\u001b[1;33m\u001b[0m\u001b[0m\n\u001b[1;32m---> 10\u001b[1;33m \u001b[0manalyzer\u001b[0m \u001b[1;33m=\u001b[0m \u001b[0mSentimentIntensityAnalyzer\u001b[0m\u001b[1;33m(\u001b[0m\u001b[1;33m)\u001b[0m\u001b[1;33m\u001b[0m\u001b[1;33m\u001b[0m\u001b[0m\n\u001b[0m\u001b[0;32m     11\u001b[0m \u001b[1;33m\u001b[0m\u001b[0m\n\u001b[0;32m     12\u001b[0m \u001b[1;31m# add words to lexicon\u001b[0m\u001b[1;33m\u001b[0m\u001b[1;33m\u001b[0m\u001b[1;33m\u001b[0m\u001b[0m\n",
      "\u001b[1;31mNameError\u001b[0m: name 'SentimentIntensityAnalyzer' is not defined"
     ]
    }
   ],
   "source": [
    "values = []\n",
    "\n",
    "# some words mentioned often need to be added to vader lexicon\n",
    "words =  {'nuclear': -2.7,\n",
    "         'depleted': -2.3,\n",
    "         'obstruction': -1.3,\n",
    "         'jail': -2.2}\n",
    "\n",
    "# instantialte vader object \n",
    "analyzer = SentimentIntensityAnalyzer()\n",
    "\n",
    "# add words to lexicon\n",
    "analyzer.lexicon.update(words)\n",
    "for tweet in vec:\n",
    "    lst = []\n",
    "    result = re.sub(r\"http\\S+\", \"\", tweet)\n",
    "    analysis = analyzer.polarity_scores(result)\n",
    "    lst.append(result)\n",
    "    lst.append(analysis['pos'])\n",
    "    lst.append(-1*(analysis['compound']))\n",
    "    lst.append(analysis['neg'])\n",
    "    lst.append(analysis['neu'])\n",
    "    if lst[2] >= 0.05:\n",
    "        lst.append('Very Provcative')\n",
    "    elif (lst[2] > -0.05) & (lst[2] < 0.05) :\n",
    "        lst.append('Less Provocative')\n",
    "    elif lst[2] <= -0.05:\n",
    "        lst.append('Somewhat Neutral')\n",
    "    values.append(lst)\n",
    "    \n",
    "# create dataframe from results \n",
    "sentiment = pd.DataFrame(values , columns = ['Text', 'pos','compound','neg','neu', 'sentiment'])\n",
    "\n"
   ]
  },
  {
   "cell_type": "code",
   "execution_count": 83,
   "metadata": {},
   "outputs": [
    {
     "data": {
      "text/html": [
       "<div>\n",
       "<style scoped>\n",
       "    .dataframe tbody tr th:only-of-type {\n",
       "        vertical-align: middle;\n",
       "    }\n",
       "\n",
       "    .dataframe tbody tr th {\n",
       "        vertical-align: top;\n",
       "    }\n",
       "\n",
       "    .dataframe thead th {\n",
       "        text-align: right;\n",
       "    }\n",
       "</style>\n",
       "<table border=\"1\" class=\"dataframe\">\n",
       "  <thead>\n",
       "    <tr style=\"text-align: right;\">\n",
       "      <th></th>\n",
       "      <th>Text</th>\n",
       "      <th>pos</th>\n",
       "      <th>compound</th>\n",
       "      <th>neg</th>\n",
       "      <th>neu</th>\n",
       "      <th>sentiment</th>\n",
       "    </tr>\n",
       "  </thead>\n",
       "  <tbody>\n",
       "    <tr>\n",
       "      <th>0</th>\n",
       "      <td>“What is happening to President Trump with Imp...</td>\n",
       "      <td>0.072</td>\n",
       "      <td>0.3164</td>\n",
       "      <td>0.105</td>\n",
       "      <td>0.823</td>\n",
       "      <td>Very Provcative</td>\n",
       "    </tr>\n",
       "    <tr>\n",
       "      <th>1</th>\n",
       "      <td>You would think there is NO WAY that any of th...</td>\n",
       "      <td>0.124</td>\n",
       "      <td>0.1676</td>\n",
       "      <td>0.151</td>\n",
       "      <td>0.724</td>\n",
       "      <td>Very Provcative</td>\n",
       "    </tr>\n",
       "    <tr>\n",
       "      <th>2</th>\n",
       "      <td>We now have the greatest Economy in history!</td>\n",
       "      <td>0.391</td>\n",
       "      <td>-0.6696</td>\n",
       "      <td>0.000</td>\n",
       "      <td>0.609</td>\n",
       "      <td>Somewhat Neutral</td>\n",
       "    </tr>\n",
       "    <tr>\n",
       "      <th>3</th>\n",
       "      <td>A great group of Champions!</td>\n",
       "      <td>0.796</td>\n",
       "      <td>-0.8313</td>\n",
       "      <td>0.000</td>\n",
       "      <td>0.204</td>\n",
       "      <td>Somewhat Neutral</td>\n",
       "    </tr>\n",
       "  </tbody>\n",
       "</table>\n",
       "</div>"
      ],
      "text/plain": [
       "                                                Text    pos  compound    neg  \\\n",
       "0  “What is happening to President Trump with Imp...  0.072    0.3164  0.105   \n",
       "1  You would think there is NO WAY that any of th...  0.124    0.1676  0.151   \n",
       "2      We now have the greatest Economy in history!   0.391   -0.6696  0.000   \n",
       "3                       A great group of Champions!   0.796   -0.8313  0.000   \n",
       "\n",
       "     neu         sentiment  \n",
       "0  0.823   Very Provcative  \n",
       "1  0.724   Very Provcative  \n",
       "2  0.609  Somewhat Neutral  \n",
       "3  0.204  Somewhat Neutral  "
      ]
     },
     "execution_count": 83,
     "metadata": {},
     "output_type": "execute_result"
    }
   ],
   "source": [
    "sentiment.head(4)"
   ]
  },
  {
   "cell_type": "code",
   "execution_count": 84,
   "metadata": {},
   "outputs": [],
   "source": [
    "sent_nTweet = sentiment[['pos','compound','neg','neu', 'sentiment']]\n",
    "#final_sent = pd.concat([tweets, sent_nTweet], axis=1, ignore_index=True)"
   ]
  },
  {
   "cell_type": "code",
   "execution_count": 85,
   "metadata": {},
   "outputs": [],
   "source": [
    "final_sent = pd.concat([tweets.reset_index(drop=True), sent_nTweet.reset_index(drop=True)], axis=1)"
   ]
  },
  {
   "cell_type": "code",
   "execution_count": 86,
   "metadata": {},
   "outputs": [
    {
     "data": {
      "text/html": [
       "<div>\n",
       "<style scoped>\n",
       "    .dataframe tbody tr th:only-of-type {\n",
       "        vertical-align: middle;\n",
       "    }\n",
       "\n",
       "    .dataframe tbody tr th {\n",
       "        vertical-align: top;\n",
       "    }\n",
       "\n",
       "    .dataframe thead th {\n",
       "        text-align: right;\n",
       "    }\n",
       "</style>\n",
       "<table border=\"1\" class=\"dataframe\">\n",
       "  <thead>\n",
       "    <tr style=\"text-align: right;\">\n",
       "      <th></th>\n",
       "      <th>source</th>\n",
       "      <th>text</th>\n",
       "      <th>created_at</th>\n",
       "      <th>retweet_count</th>\n",
       "      <th>favorite_count</th>\n",
       "      <th>is_retweet</th>\n",
       "      <th>id_str</th>\n",
       "      <th>pos</th>\n",
       "      <th>compound</th>\n",
       "      <th>neg</th>\n",
       "      <th>neu</th>\n",
       "      <th>sentiment</th>\n",
       "    </tr>\n",
       "  </thead>\n",
       "  <tbody>\n",
       "    <tr>\n",
       "      <th>0</th>\n",
       "      <td>Twitter for iPhone</td>\n",
       "      <td>“What is happening to President Trump with Imp...</td>\n",
       "      <td>10-16-2019 11:14:11</td>\n",
       "      <td>1179.0</td>\n",
       "      <td>3889</td>\n",
       "      <td>false</td>\n",
       "      <td>1.184427e+18</td>\n",
       "      <td>0.072</td>\n",
       "      <td>0.3164</td>\n",
       "      <td>0.105</td>\n",
       "      <td>0.823</td>\n",
       "      <td>Very Provcative</td>\n",
       "    </tr>\n",
       "    <tr>\n",
       "      <th>1</th>\n",
       "      <td>Twitter for iPhone</td>\n",
       "      <td>You would think there is NO WAY that any of th...</td>\n",
       "      <td>10-16-2019 11:10:02</td>\n",
       "      <td>1935.0</td>\n",
       "      <td>7121</td>\n",
       "      <td>false</td>\n",
       "      <td>1.184426e+18</td>\n",
       "      <td>0.124</td>\n",
       "      <td>0.1676</td>\n",
       "      <td>0.151</td>\n",
       "      <td>0.724</td>\n",
       "      <td>Very Provcative</td>\n",
       "    </tr>\n",
       "    <tr>\n",
       "      <th>2</th>\n",
       "      <td>Twitter for iPhone</td>\n",
       "      <td>We now have the greatest Economy in history! h...</td>\n",
       "      <td>10-16-2019 03:22:00</td>\n",
       "      <td>19700.0</td>\n",
       "      <td>75461</td>\n",
       "      <td>false</td>\n",
       "      <td>1.184308e+18</td>\n",
       "      <td>0.391</td>\n",
       "      <td>-0.6696</td>\n",
       "      <td>0.000</td>\n",
       "      <td>0.609</td>\n",
       "      <td>Somewhat Neutral</td>\n",
       "    </tr>\n",
       "    <tr>\n",
       "      <th>3</th>\n",
       "      <td>Twitter for iPhone</td>\n",
       "      <td>A great group of Champions! https://t.co/A2ux8...</td>\n",
       "      <td>10-16-2019 03:16:57</td>\n",
       "      <td>5197.0</td>\n",
       "      <td>23540</td>\n",
       "      <td>false</td>\n",
       "      <td>1.184307e+18</td>\n",
       "      <td>0.796</td>\n",
       "      <td>-0.8313</td>\n",
       "      <td>0.000</td>\n",
       "      <td>0.204</td>\n",
       "      <td>Somewhat Neutral</td>\n",
       "    </tr>\n",
       "    <tr>\n",
       "      <th>4</th>\n",
       "      <td>Twitter for iPhone</td>\n",
       "      <td>Looks good to me! https://t.co/3aHn7y3ZxI</td>\n",
       "      <td>10-16-2019 03:15:40</td>\n",
       "      <td>12227.0</td>\n",
       "      <td>51139</td>\n",
       "      <td>false</td>\n",
       "      <td>1.184307e+18</td>\n",
       "      <td>0.516</td>\n",
       "      <td>-0.4926</td>\n",
       "      <td>0.000</td>\n",
       "      <td>0.484</td>\n",
       "      <td>Somewhat Neutral</td>\n",
       "    </tr>\n",
       "    <tr>\n",
       "      <th>5</th>\n",
       "      <td>Twitter for iPhone</td>\n",
       "      <td>Shifty Adam Schiff wants to rest his entire ca...</td>\n",
       "      <td>10-16-2019 02:21:54</td>\n",
       "      <td>13957.0</td>\n",
       "      <td>52248</td>\n",
       "      <td>false</td>\n",
       "      <td>1.184293e+18</td>\n",
       "      <td>0.000</td>\n",
       "      <td>0.5859</td>\n",
       "      <td>0.073</td>\n",
       "      <td>0.927</td>\n",
       "      <td>Very Provcative</td>\n",
       "    </tr>\n",
       "    <tr>\n",
       "      <th>6</th>\n",
       "      <td>Twitter for iPhone</td>\n",
       "      <td>.... It also brings Shifty’s fraudulent MADE U...</td>\n",
       "      <td>10-16-2019 02:21:54</td>\n",
       "      <td>9554.0</td>\n",
       "      <td>37017</td>\n",
       "      <td>false</td>\n",
       "      <td>1.184293e+18</td>\n",
       "      <td>0.070</td>\n",
       "      <td>0.8513</td>\n",
       "      <td>0.192</td>\n",
       "      <td>0.737</td>\n",
       "      <td>Very Provcative</td>\n",
       "    </tr>\n",
       "    <tr>\n",
       "      <th>7</th>\n",
       "      <td>Twitter for iPhone</td>\n",
       "      <td>https://t.co/Kj1LtwYSXa https://t.co/YgXImlvOYd</td>\n",
       "      <td>10-15-2019 22:34:18</td>\n",
       "      <td>10865.0</td>\n",
       "      <td>42539</td>\n",
       "      <td>false</td>\n",
       "      <td>1.184236e+18</td>\n",
       "      <td>0.000</td>\n",
       "      <td>-0.0000</td>\n",
       "      <td>0.000</td>\n",
       "      <td>0.000</td>\n",
       "      <td>Less Provocative</td>\n",
       "    </tr>\n",
       "    <tr>\n",
       "      <th>8</th>\n",
       "      <td>Twitter for iPhone</td>\n",
       "      <td>The @StLouisBlues amazing comeback reminds us ...</td>\n",
       "      <td>10-15-2019 20:05:12</td>\n",
       "      <td>12976.0</td>\n",
       "      <td>53892</td>\n",
       "      <td>false</td>\n",
       "      <td>1.184199e+18</td>\n",
       "      <td>0.231</td>\n",
       "      <td>-0.7520</td>\n",
       "      <td>0.085</td>\n",
       "      <td>0.684</td>\n",
       "      <td>Somewhat Neutral</td>\n",
       "    </tr>\n",
       "    <tr>\n",
       "      <th>9</th>\n",
       "      <td>Twitter for iPhone</td>\n",
       "      <td>Congratulations @StLouisBlues! https://t.co/Wj...</td>\n",
       "      <td>10-15-2019 19:58:53</td>\n",
       "      <td>8068.0</td>\n",
       "      <td>33766</td>\n",
       "      <td>false</td>\n",
       "      <td>1.184197e+18</td>\n",
       "      <td>0.807</td>\n",
       "      <td>-0.6360</td>\n",
       "      <td>0.000</td>\n",
       "      <td>0.193</td>\n",
       "      <td>Somewhat Neutral</td>\n",
       "    </tr>\n",
       "    <tr>\n",
       "      <th>10</th>\n",
       "      <td>Twitter for iPhone</td>\n",
       "      <td>Now that we have found out that @CNN is a virt...</td>\n",
       "      <td>10-15-2019 18:04:56</td>\n",
       "      <td>30649.0</td>\n",
       "      <td>114078</td>\n",
       "      <td>false</td>\n",
       "      <td>1.184168e+18</td>\n",
       "      <td>0.000</td>\n",
       "      <td>0.5859</td>\n",
       "      <td>0.160</td>\n",
       "      <td>0.840</td>\n",
       "      <td>Very Provcative</td>\n",
       "    </tr>\n",
       "    <tr>\n",
       "      <th>11</th>\n",
       "      <td>Twitter for iPhone</td>\n",
       "      <td>Join me in Dallas Texas this Thursday (October...</td>\n",
       "      <td>10-15-2019 16:41:36</td>\n",
       "      <td>15146.0</td>\n",
       "      <td>46537</td>\n",
       "      <td>false</td>\n",
       "      <td>1.184147e+18</td>\n",
       "      <td>0.151</td>\n",
       "      <td>-0.3595</td>\n",
       "      <td>0.000</td>\n",
       "      <td>0.849</td>\n",
       "      <td>Somewhat Neutral</td>\n",
       "    </tr>\n",
       "  </tbody>\n",
       "</table>\n",
       "</div>"
      ],
      "text/plain": [
       "                source                                               text  \\\n",
       "0   Twitter for iPhone  “What is happening to President Trump with Imp...   \n",
       "1   Twitter for iPhone  You would think there is NO WAY that any of th...   \n",
       "2   Twitter for iPhone  We now have the greatest Economy in history! h...   \n",
       "3   Twitter for iPhone  A great group of Champions! https://t.co/A2ux8...   \n",
       "4   Twitter for iPhone          Looks good to me! https://t.co/3aHn7y3ZxI   \n",
       "5   Twitter for iPhone  Shifty Adam Schiff wants to rest his entire ca...   \n",
       "6   Twitter for iPhone  .... It also brings Shifty’s fraudulent MADE U...   \n",
       "7   Twitter for iPhone    https://t.co/Kj1LtwYSXa https://t.co/YgXImlvOYd   \n",
       "8   Twitter for iPhone  The @StLouisBlues amazing comeback reminds us ...   \n",
       "9   Twitter for iPhone  Congratulations @StLouisBlues! https://t.co/Wj...   \n",
       "10  Twitter for iPhone  Now that we have found out that @CNN is a virt...   \n",
       "11  Twitter for iPhone  Join me in Dallas Texas this Thursday (October...   \n",
       "\n",
       "             created_at  retweet_count favorite_count is_retweet  \\\n",
       "0   10-16-2019 11:14:11         1179.0           3889      false   \n",
       "1   10-16-2019 11:10:02         1935.0           7121      false   \n",
       "2   10-16-2019 03:22:00        19700.0          75461      false   \n",
       "3   10-16-2019 03:16:57         5197.0          23540      false   \n",
       "4   10-16-2019 03:15:40        12227.0          51139      false   \n",
       "5   10-16-2019 02:21:54        13957.0          52248      false   \n",
       "6   10-16-2019 02:21:54         9554.0          37017      false   \n",
       "7   10-15-2019 22:34:18        10865.0          42539      false   \n",
       "8   10-15-2019 20:05:12        12976.0          53892      false   \n",
       "9   10-15-2019 19:58:53         8068.0          33766      false   \n",
       "10  10-15-2019 18:04:56        30649.0         114078      false   \n",
       "11  10-15-2019 16:41:36        15146.0          46537      false   \n",
       "\n",
       "          id_str    pos  compound    neg    neu         sentiment  \n",
       "0   1.184427e+18  0.072    0.3164  0.105  0.823   Very Provcative  \n",
       "1   1.184426e+18  0.124    0.1676  0.151  0.724   Very Provcative  \n",
       "2   1.184308e+18  0.391   -0.6696  0.000  0.609  Somewhat Neutral  \n",
       "3   1.184307e+18  0.796   -0.8313  0.000  0.204  Somewhat Neutral  \n",
       "4   1.184307e+18  0.516   -0.4926  0.000  0.484  Somewhat Neutral  \n",
       "5   1.184293e+18  0.000    0.5859  0.073  0.927   Very Provcative  \n",
       "6   1.184293e+18  0.070    0.8513  0.192  0.737   Very Provcative  \n",
       "7   1.184236e+18  0.000   -0.0000  0.000  0.000  Less Provocative  \n",
       "8   1.184199e+18  0.231   -0.7520  0.085  0.684  Somewhat Neutral  \n",
       "9   1.184197e+18  0.807   -0.6360  0.000  0.193  Somewhat Neutral  \n",
       "10  1.184168e+18  0.000    0.5859  0.160  0.840   Very Provcative  \n",
       "11  1.184147e+18  0.151   -0.3595  0.000  0.849  Somewhat Neutral  "
      ]
     },
     "execution_count": 86,
     "metadata": {},
     "output_type": "execute_result"
    }
   ],
   "source": [
    "# final dataset \n",
    "final_sent.head(12)"
   ]
  },
  {
   "cell_type": "code",
   "execution_count": 87,
   "metadata": {},
   "outputs": [],
   "source": [
    "# write to file \n",
    "final_sent.to_csv(\"C:\\\\Users\\\\aseal\\\\Desktop\\\\HW Projects\\\\Module2\\\\Text Analysis\\\\Text Analytics Data\\\\sentiment_scores.csv\")"
   ]
  },
  {
   "cell_type": "code",
   "execution_count": 88,
   "metadata": {},
   "outputs": [
    {
     "data": {
      "text/plain": [
       "Somewhat Neutral    0.550948\n",
       "Very Provcative     0.284184\n",
       "Less Provocative    0.164869\n",
       "Name: sentiment, dtype: float64"
      ]
     },
     "execution_count": 88,
     "metadata": {},
     "output_type": "execute_result"
    }
   ],
   "source": [
    "# get a frequency count of our sentiments \n",
    "\n",
    "final_sent['sentiment'].value_counts(normalize=True)"
   ]
  },
  {
   "cell_type": "markdown",
   "metadata": {},
   "source": [
    "# Now lets visualize our results"
   ]
  },
  {
   "cell_type": "code",
   "execution_count": 41,
   "metadata": {},
   "outputs": [
    {
     "name": "stderr",
     "output_type": "stream",
     "text": [
      "C:\\Users\\aseal\\Anaconda3\\lib\\site-packages\\statsmodels\\tools\\_testing.py:19: FutureWarning: pandas.util.testing is deprecated. Use the functions in the public API at pandas.testing instead.\n",
      "  import pandas.util.testing as tm\n"
     ]
    }
   ],
   "source": [
    "from mpl_toolkits.mplot3d import Axes3D\n",
    "import matplotlib.pyplot as plt\n",
    "import pandas as pd\n",
    "import seaborn as sns"
   ]
  },
  {
   "cell_type": "code",
   "execution_count": 3,
   "metadata": {},
   "outputs": [],
   "source": [
    "# READ IN SENTIMENT DATA CREATED ABOVE\n",
    "sentiment  =  pd.read_csv(\"C:\\\\Users\\\\aseal\\\\Desktop\\\\HW Projects\\\\Module2\\\\Text Analysis\\\\Text Analytics Data\\\\sentiment_scores.csv\")"
   ]
  },
  {
   "cell_type": "code",
   "execution_count": 4,
   "metadata": {
    "scrolled": false
   },
   "outputs": [
    {
     "data": {
      "text/html": [
       "<div>\n",
       "<style scoped>\n",
       "    .dataframe tbody tr th:only-of-type {\n",
       "        vertical-align: middle;\n",
       "    }\n",
       "\n",
       "    .dataframe tbody tr th {\n",
       "        vertical-align: top;\n",
       "    }\n",
       "\n",
       "    .dataframe thead th {\n",
       "        text-align: right;\n",
       "    }\n",
       "</style>\n",
       "<table border=\"1\" class=\"dataframe\">\n",
       "  <thead>\n",
       "    <tr style=\"text-align: right;\">\n",
       "      <th></th>\n",
       "      <th>Unnamed: 0</th>\n",
       "      <th>source</th>\n",
       "      <th>text</th>\n",
       "      <th>created_at</th>\n",
       "      <th>retweet_count</th>\n",
       "      <th>favorite_count</th>\n",
       "      <th>is_retweet</th>\n",
       "      <th>id_str</th>\n",
       "      <th>pos</th>\n",
       "      <th>compound</th>\n",
       "      <th>neg</th>\n",
       "      <th>neu</th>\n",
       "      <th>sentiment</th>\n",
       "    </tr>\n",
       "  </thead>\n",
       "  <tbody>\n",
       "    <tr>\n",
       "      <th>0</th>\n",
       "      <td>0</td>\n",
       "      <td>Twitter for iPhone</td>\n",
       "      <td>“What is happening to President Trump with Imp...</td>\n",
       "      <td>10-16-2019 11:14:11</td>\n",
       "      <td>1179.0</td>\n",
       "      <td>3889</td>\n",
       "      <td>false</td>\n",
       "      <td>1.184427e+18</td>\n",
       "      <td>0.072</td>\n",
       "      <td>0.3164</td>\n",
       "      <td>0.105</td>\n",
       "      <td>0.823</td>\n",
       "      <td>Very Provcative</td>\n",
       "    </tr>\n",
       "    <tr>\n",
       "      <th>1</th>\n",
       "      <td>1</td>\n",
       "      <td>Twitter for iPhone</td>\n",
       "      <td>You would think there is NO WAY that any of th...</td>\n",
       "      <td>10-16-2019 11:10:02</td>\n",
       "      <td>1935.0</td>\n",
       "      <td>7121</td>\n",
       "      <td>false</td>\n",
       "      <td>1.184426e+18</td>\n",
       "      <td>0.124</td>\n",
       "      <td>0.1676</td>\n",
       "      <td>0.151</td>\n",
       "      <td>0.724</td>\n",
       "      <td>Very Provcative</td>\n",
       "    </tr>\n",
       "    <tr>\n",
       "      <th>2</th>\n",
       "      <td>2</td>\n",
       "      <td>Twitter for iPhone</td>\n",
       "      <td>We now have the greatest Economy in history! h...</td>\n",
       "      <td>10-16-2019 03:22:00</td>\n",
       "      <td>19700.0</td>\n",
       "      <td>75461</td>\n",
       "      <td>false</td>\n",
       "      <td>1.184308e+18</td>\n",
       "      <td>0.391</td>\n",
       "      <td>-0.6696</td>\n",
       "      <td>0.000</td>\n",
       "      <td>0.609</td>\n",
       "      <td>Somewhat Neutral</td>\n",
       "    </tr>\n",
       "  </tbody>\n",
       "</table>\n",
       "</div>"
      ],
      "text/plain": [
       "   Unnamed: 0              source  \\\n",
       "0           0  Twitter for iPhone   \n",
       "1           1  Twitter for iPhone   \n",
       "2           2  Twitter for iPhone   \n",
       "\n",
       "                                                text           created_at  \\\n",
       "0  “What is happening to President Trump with Imp...  10-16-2019 11:14:11   \n",
       "1  You would think there is NO WAY that any of th...  10-16-2019 11:10:02   \n",
       "2  We now have the greatest Economy in history! h...  10-16-2019 03:22:00   \n",
       "\n",
       "   retweet_count favorite_count is_retweet        id_str    pos  compound  \\\n",
       "0         1179.0           3889      false  1.184427e+18  0.072    0.3164   \n",
       "1         1935.0           7121      false  1.184426e+18  0.124    0.1676   \n",
       "2        19700.0          75461      false  1.184308e+18  0.391   -0.6696   \n",
       "\n",
       "     neg    neu         sentiment  \n",
       "0  0.105  0.823   Very Provcative  \n",
       "1  0.151  0.724   Very Provcative  \n",
       "2  0.000  0.609  Somewhat Neutral  "
      ]
     },
     "execution_count": 4,
     "metadata": {},
     "output_type": "execute_result"
    }
   ],
   "source": [
    "# A glimpse of the data\n",
    "sentiment.head(3)"
   ]
  },
  {
   "cell_type": "code",
   "execution_count": 15,
   "metadata": {},
   "outputs": [
    {
     "data": {
      "text/plain": [
       "Text(0.5, 0.92, 'Tweet Sentiment Score Scatter Plot')"
      ]
     },
     "execution_count": 15,
     "metadata": {},
     "output_type": "execute_result"
    },
    {
     "data": {
      "image/png": "[encoded data removed]",
      "text/plain": [
       "<Figure size 576x576 with 1 Axes>"
      ]
     },
     "metadata": {
      "needs_background": "light"
     },
     "output_type": "display_data"
    }
   ],
   "source": [
    "# CREATE A 3D PLOT OF THE POS, NEG AND NEU\n",
    "\n",
    "fig = plt.figure(figsize=(8,8))\n",
    "ax = Axes3D(fig)\n",
    "\n",
    "ax.scatter(sentiment.pos, sentiment.neg, sentiment.neu)\n",
    "\n",
    "ax.set_xlabel('Positivity Score')\n",
    "ax.set_ylabel('Negativity Score')\n",
    "ax.set_zlabel('Neutrality Score')\n",
    "ax.set_title('Tweet Sentiment Score Scatter Plot')"
   ]
  },
  {
   "cell_type": "code",
   "execution_count": 20,
   "metadata": {},
   "outputs": [
    {
     "data": {
      "text/plain": [
       "Text(0.5, 1.0, 'Sentiment Classification Frequncies')"
      ]
     },
     "execution_count": 20,
     "metadata": {},
     "output_type": "execute_result"
    },
    {
     "data": {
      "image/png": "[encoded data removed]",
      "text/plain": [
       "<Figure size 432x288 with 1 Axes>"
      ]
     },
     "metadata": {
      "needs_background": "light"
     },
     "output_type": "display_data"
    }
   ],
   "source": [
    "freq =  sentiment.sentiment.value_counts()\n",
    "\n",
    "plt.bar(list(freq.index), freq )\n",
    "plt.title('Sentiment Classification Frequncies')"
   ]
  },
  {
   "cell_type": "code",
   "execution_count": 30,
   "metadata": {},
   "outputs": [
    {
     "data": {
      "text/plain": [
       "0.05629884837505516"
      ]
     },
     "execution_count": 30,
     "metadata": {},
     "output_type": "execute_result"
    }
   ],
   "source": [
    "# Pearson Correlation Coefficient between retweet count and coompounded sentiment score\n",
    "sentiment.compound.corr(sentiment.retweet_count)"
   ]
  },
  {
   "cell_type": "markdown",
   "metadata": {},
   "source": [
    "# Final Thoughts\n",
    "\n",
    "Classifying social media text is hard because of certain nunaces communction in this medium are are hard to pick up. Things like sarcasm cant be texted using basic text analysis methods."
   ]
  }
 ],
 "metadata": {
  "kernelspec": {
   "display_name": "Python 3",
   "language": "python",
   "name": "python3"
  },
  "language_info": {
   "codemirror_mode": {
    "name": "ipython",
    "version": 3
   },
   "file_extension": ".py",
   "mimetype": "text/x-python",
   "name": "python",
   "nbconvert_exporter": "python",
   "pygments_lexer": "ipython3",
   "version": "3.7.3"
  }
 },
 "nbformat": 4,
 "nbformat_minor": 2
}
